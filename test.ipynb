{
 "cells": [
  {
   "cell_type": "code",
   "execution_count": 1,
   "metadata": {},
   "outputs": [],
   "source": [
    "from azul import Azul\n",
    "from board import Board\n",
    "from tiles import TileBag\n",
    "from helpers import COLORS\n",
    "from actions import READABLE_ACTIONS\n",
    "import numpy as np"
   ]
  },
  {
   "cell_type": "code",
   "execution_count": 2,
   "metadata": {},
   "outputs": [],
   "source": [
    "def sample_action(valid_actions):\n",
    "    mask = np.where(valid_actions == 1)[0]\n",
    "    return np.random.choice(mask)"
   ]
  },
  {
   "cell_type": "code",
   "execution_count": 3,
   "metadata": {},
   "outputs": [],
   "source": [
    "env = Azul(2)"
   ]
  },
  {
   "cell_type": "code",
   "execution_count": 4,
   "metadata": {},
   "outputs": [
    {
     "name": "stdout",
     "output_type": "stream",
     "text": [
      "['azul', 'yellow', 'red', 'black', 'white']\n"
     ]
    }
   ],
   "source": [
    "colors = COLORS.copy()\n",
    "print(colors)"
   ]
  },
  {
   "cell_type": "code",
   "execution_count": 5,
   "metadata": {},
   "outputs": [],
   "source": [
    "tiles = TileBag()"
   ]
  },
  {
   "cell_type": "code",
   "execution_count": 6,
   "metadata": {},
   "outputs": [
    {
     "data": {
      "text/plain": [
       "['black', 'white', 'azul', 'azul', 'white']"
      ]
     },
     "execution_count": 6,
     "metadata": {},
     "output_type": "execute_result"
    }
   ],
   "source": [
    "tiles.draw(5)"
   ]
  },
  {
   "cell_type": "code",
   "execution_count": 7,
   "metadata": {},
   "outputs": [],
   "source": [
    "state,valid_actions,game_over = env.reset()\n",
    "\n"
   ]
  },
  {
   "cell_type": "code",
   "execution_count": 8,
   "metadata": {},
   "outputs": [],
   "source": [
    "# player = env.players[0]\n",
    "\n",
    "# print(player.board.get_state())\n",
    "# print(player.pattern_lines.get_state())\n",
    "# print(player.floor_line.get_state())\n",
    "# print(player.chosen_tokens + [0] * (15 - len(player.chosen_tokens)))\n",
    "# print(player.get_state())"
   ]
  },
  {
   "cell_type": "code",
   "execution_count": 9,
   "metadata": {},
   "outputs": [],
   "source": [
    "\n",
    "# print(env.players[env.current_player].get_state())\n",
    "# print(env.factory.get_state())\n",
    "# print(env.picking_factory,env.picking_pattern_line,env.placing_tiles)\n"
   ]
  },
  {
   "cell_type": "code",
   "execution_count": 10,
   "metadata": {},
   "outputs": [],
   "source": [
    "\n",
    "# print(player.score)\n",
    "# print(player.board.get_score() )\n",
    "# print(player.floor_line.get_score())"
   ]
  },
  {
   "attachments": {},
   "cell_type": "markdown",
   "metadata": {},
   "source": [
    "# Check factory valid actions"
   ]
  },
  {
   "cell_type": "code",
   "execution_count": 11,
   "metadata": {},
   "outputs": [],
   "source": [
    "# env.factory.display()\n",
    "# env.factory.can_take_from_factory(2,'black')\n",
    "# env.get_color_playable('black')\n",
    "\n",
    "# row = 1\n",
    "# for color in COLORS:\n",
    "#     print(f'checking {color} in row {1}')\n",
    "#     print(env.factory.can_take_from_factory(1,color) and any(env.get_color_playable(color)))"
   ]
  },
  {
   "cell_type": "code",
   "execution_count": 12,
   "metadata": {},
   "outputs": [
    {
     "name": "stdout",
     "output_type": "stream",
     "text": [
      "Player: 0\n",
      "Score: 0\n",
      "Board: \n",
      "[('azul', False), ('yellow', False), ('red', False), ('black', False), ('white', False)]\n",
      "[('white', False), ('azul', False), ('yellow', False), ('red', False), ('black', False)]\n",
      "[('black', False), ('white', False), ('azul', False), ('yellow', False), ('red', False)]\n",
      "[('red', False), ('black', False), ('white', False), ('azul', False), ('yellow', False)]\n",
      "[('yellow', False), ('red', False), ('black', False), ('white', False), ('azul', False)]\n",
      "Pattern Lines: \n",
      "pattern line 0 [0]\n",
      "pattern line 1 [0, 0]\n",
      "pattern line 2 [0, 0, 0]\n",
      "pattern line 3 [0, 0, 0, 0]\n",
      "pattern line 4 [0, 0, 0, 0, 0]\n",
      "Floor Line:[]\n",
      "Floor Line: None\n",
      "Chosen Tokens:  []\n",
      "Factory 0: ['azul', 'red', 'white', 'white']\n",
      "Factory 1: ['black', 'white', 'azul', 'red']\n",
      "Factory 2: ['azul', 'azul', 'white', 'azul']\n",
      "Factory 3: ['red', 'red', 'black', 'black']\n",
      "Factory 4: ['yellow', 'red', 'yellow', 'red']\n",
      "Center: []\n",
      "Picking Factory: True\n",
      "Picking Pattern Line: False\n",
      "Placing Tiles: False\n",
      "[1 0 1 0 1 1 0 1 1 1 1 0 0 0 1 0 0 1 1 0 0 1 1 0 0 0 0 0 0 0 0 0 0 0 0 0 0\n",
      " 0 0 0]\n",
      "[ 0  2  4  5  7  8  9 10 14 17 18 21 22]\n",
      "Valid Actions: ['take_factory_0_azul', 'take_factory_0_red', 'take_factory_0_white', 'take_factory_1_azul', 'take_factory_1_red', 'take_factory_1_black', 'take_factory_1_white', 'take_factory_2_azul', 'take_factory_2_white', 'take_factory_3_red', 'take_factory_3_black', 'take_factory_4_yellow', 'take_factory_4_red']\n"
     ]
    }
   ],
   "source": [
    "env.display()"
   ]
  },
  {
   "cell_type": "code",
   "execution_count": 13,
   "metadata": {},
   "outputs": [
    {
     "name": "stdout",
     "output_type": "stream",
     "text": [
      "[1 0 1 0 1 1 0 1 1 1 1 0 0 0 1 0 0 1 1 0 0 1 1 0 0 0 0 0 0 0 0 0 0 0 0 0 0\n",
      " 0 0 0]\n"
     ]
    }
   ],
   "source": [
    "# Now we need to test the action -> step loop\n",
    "# and state transitions.\n",
    "print(env.return_valid_actions())"
   ]
  },
  {
   "cell_type": "code",
   "execution_count": 14,
   "metadata": {},
   "outputs": [
    {
     "name": "stdout",
     "output_type": "stream",
     "text": [
      "action 4 take_factory_0_white\n"
     ]
    }
   ],
   "source": [
    "\n",
    "# state,valid_actions,game_over = env.reset()\n",
    "action = sample_action(valid_actions)\n",
    "print('action',action,READABLE_ACTIONS[action])\n"
   ]
  },
  {
   "cell_type": "code",
   "execution_count": 15,
   "metadata": {},
   "outputs": [
    {
     "name": "stdout",
     "output_type": "stream",
     "text": [
      "color white\n",
      "action 4\n",
      "drawing color white from factory 4 [['azul', 'red', 'white', 'white'], ['black', 'white', 'azul', 'red'], ['azul', 'azul', 'white', 'azul'], ['red', 'red', 'black', 'black'], ['yellow', 'red', 'yellow', 'red']]\n",
      "taken []\n",
      "center []\n",
      "factories [['azul', 'red', 'white', 'white'], ['black', 'white', 'azul', 'red'], ['azul', 'azul', 'white', 'azul'], ['red', 'red', 'black', 'black'], ['yellow', 'red', 'yellow', 'red']]\n"
     ]
    }
   ],
   "source": [
    "state,valid_actions,game_over = env.step(action)"
   ]
  },
  {
   "cell_type": "code",
   "execution_count": 16,
   "metadata": {},
   "outputs": [
    {
     "name": "stdout",
     "output_type": "stream",
     "text": [
      "Player: 0\n",
      "Score: 0\n",
      "Board: \n",
      "[('azul', False), ('yellow', False), ('red', False), ('black', False), ('white', False)]\n",
      "[('white', False), ('azul', False), ('yellow', False), ('red', False), ('black', False)]\n",
      "[('black', False), ('white', False), ('azul', False), ('yellow', False), ('red', False)]\n",
      "[('red', False), ('black', False), ('white', False), ('azul', False), ('yellow', False)]\n",
      "[('yellow', False), ('red', False), ('black', False), ('white', False), ('azul', False)]\n",
      "Pattern Lines: \n",
      "pattern line 0 [0]\n",
      "pattern line 1 [0, 0]\n",
      "pattern line 2 [0, 0, 0]\n",
      "pattern line 3 [0, 0, 0, 0]\n",
      "pattern line 4 [0, 0, 0, 0, 0]\n",
      "Floor Line:[]\n",
      "Floor Line: None\n",
      "Chosen Tokens:  []\n",
      "Factory 0: ['azul', 'red', 'white', 'white']\n",
      "Factory 1: ['black', 'white', 'azul', 'red']\n",
      "Factory 2: ['azul', 'azul', 'white', 'azul']\n",
      "Factory 3: ['red', 'red', 'black', 'black']\n",
      "Factory 4: ['yellow', 'red', 'yellow', 'red']\n",
      "Center: []\n",
      "Picking Factory: False\n",
      "Picking Pattern Line: True\n",
      "Placing Tiles: False\n"
     ]
    },
    {
     "ename": "IndexError",
     "evalue": "list index out of range",
     "output_type": "error",
     "traceback": [
      "\u001b[0;31m---------------------------------------------------------------------------\u001b[0m",
      "\u001b[0;31mIndexError\u001b[0m                                Traceback (most recent call last)",
      "\u001b[1;32m/Users/Shuza/Code/Azul/test.ipynb Cell 17\u001b[0m in \u001b[0;36m1\n\u001b[0;32m----> <a href='vscode-notebook-cell:/Users/Shuza/Code/Azul/test.ipynb#X26sZmlsZQ%3D%3D?line=0'>1</a>\u001b[0m env\u001b[39m.\u001b[39;49mdisplay()\n",
      "File \u001b[0;32m~/Code/Azul/azul.py:189\u001b[0m, in \u001b[0;36mAzul.display\u001b[0;34m(self)\u001b[0m\n\u001b[1;32m    187\u001b[0m \u001b[39mprint\u001b[39m(\u001b[39m\"\u001b[39m\u001b[39mPicking Pattern Line: \u001b[39m\u001b[39m{}\u001b[39;00m\u001b[39m\"\u001b[39m\u001b[39m.\u001b[39mformat(\u001b[39mself\u001b[39m\u001b[39m.\u001b[39mpicking_pattern_line))\n\u001b[1;32m    188\u001b[0m \u001b[39mprint\u001b[39m(\u001b[39m\"\u001b[39m\u001b[39mPlacing Tiles: \u001b[39m\u001b[39m{}\u001b[39;00m\u001b[39m\"\u001b[39m\u001b[39m.\u001b[39mformat(\u001b[39mself\u001b[39m\u001b[39m.\u001b[39mplacing_tiles))\n\u001b[0;32m--> 189\u001b[0m actions \u001b[39m=\u001b[39m \u001b[39mself\u001b[39;49m\u001b[39m.\u001b[39;49mreturn_valid_actions()\n\u001b[1;32m    190\u001b[0m mask \u001b[39m=\u001b[39m np\u001b[39m.\u001b[39mwhere(actions \u001b[39m==\u001b[39m \u001b[39m1\u001b[39m)[\u001b[39m0\u001b[39m]\n\u001b[1;32m    191\u001b[0m readable_actions \u001b[39m=\u001b[39m [READABLE_ACTIONS[a] \u001b[39mfor\u001b[39;00m a \u001b[39min\u001b[39;00m mask]\n",
      "File \u001b[0;32m~/Code/Azul/azul.py:131\u001b[0m, in \u001b[0;36mAzul.return_valid_actions\u001b[0;34m(self)\u001b[0m\n\u001b[1;32m    128\u001b[0m             action_vector[vector_idx\u001b[39m+\u001b[39mi] \u001b[39m=\u001b[39m \u001b[39m1\u001b[39m\n\u001b[1;32m    129\u001b[0m \u001b[39melse\u001b[39;00m:\n\u001b[1;32m    130\u001b[0m     \u001b[39m# check if pattern lines are open, and if so, if the color is valid. And if the color matches the current color of the pattern line.\u001b[39;00m\n\u001b[0;32m--> 131\u001b[0m     chosen_color \u001b[39m=\u001b[39m \u001b[39mself\u001b[39;49m\u001b[39m.\u001b[39;49mplayers[\u001b[39mself\u001b[39;49m\u001b[39m.\u001b[39;49mcurrent_player]\u001b[39m.\u001b[39;49mchosen_tokens[\u001b[39m0\u001b[39;49m]\n\u001b[1;32m    132\u001b[0m     union \u001b[39m=\u001b[39m \u001b[39mself\u001b[39m\u001b[39m.\u001b[39mget_color_playable(chosen_color)\n\u001b[1;32m    133\u001b[0m     \u001b[39mprint\u001b[39m(\u001b[39m'\u001b[39m\u001b[39munion\u001b[39m\u001b[39m'\u001b[39m)\n",
      "\u001b[0;31mIndexError\u001b[0m: list index out of range"
     ]
    }
   ],
   "source": [
    "env.display()"
   ]
  },
  {
   "cell_type": "code",
   "execution_count": null,
   "metadata": {},
   "outputs": [
    {
     "name": "stdout",
     "output_type": "stream",
     "text": [
      "union\n"
     ]
    },
    {
     "data": {
      "text/plain": [
       "array([0, 0, 0, 0, 0, 0, 0, 0, 0, 0, 0, 0, 0, 0, 0, 0, 0, 0, 0, 0, 0, 0,\n",
       "       0, 0, 0, 0, 0, 0, 0, 0, 1, 1, 1, 1, 1, 0, 0, 0, 0, 0], dtype=int8)"
      ]
     },
     "execution_count": 17,
     "metadata": {},
     "output_type": "execute_result"
    }
   ],
   "source": [
    "env.return_valid_actions()"
   ]
  },
  {
   "cell_type": "code",
   "execution_count": null,
   "metadata": {},
   "outputs": [
    {
     "name": "stdout",
     "output_type": "stream",
     "text": [
      "valid_actions [1 0 1 0 1 1 1 1 0 0 0 1 0 0 1 0 1 1 0 0 0 0 0 0 0 1 1 1 0 0 0 0 0 0 0 0 0\n",
      " 0 0 0]\n",
      "color azul\n",
      "action 0\n",
      "drawing color azul from factory 0 [['azul', 'white', 'red', 'white'], ['yellow', 'red', 'azul', 'yellow'], ['white', 'yellow', 'yellow', 'yellow'], ['yellow', 'red', 'red', 'red'], [0]]\n",
      "taken ['azul']\n",
      "center ['yellow', 'azul', 'red', 'white', 'red', 'white']\n",
      "factories [[0], ['yellow', 'red', 'azul', 'yellow'], ['white', 'yellow', 'yellow', 'yellow'], ['yellow', 'red', 'red', 'red'], [0]]\n",
      "union\n"
     ]
    }
   ],
   "source": [
    "print('valid_actions',valid_actions)\n",
    "action = sample_action(valid_actions)\n",
    "state,valid_actions,game_over = env.step(action)"
   ]
  },
  {
   "cell_type": "code",
   "execution_count": null,
   "metadata": {},
   "outputs": [],
   "source": [
    "\n",
    "# state,valid_actions,game_over = env.reset()\n",
    "# while not game_over:\n",
    "#     action = np.random.choice(valid_actions)\n",
    "#     print('action',action)\n",
    "#     state,valid_actions,game_over = env.step(action)\n",
    "#     env.display()"
   ]
  }
 ],
 "metadata": {
  "kernelspec": {
   "display_name": "ml",
   "language": "python",
   "name": "python3"
  },
  "language_info": {
   "codemirror_mode": {
    "name": "ipython",
    "version": 3
   },
   "file_extension": ".py",
   "mimetype": "text/x-python",
   "name": "python",
   "nbconvert_exporter": "python",
   "pygments_lexer": "ipython3",
   "version": "3.10.8"
  },
  "orig_nbformat": 4
 },
 "nbformat": 4,
 "nbformat_minor": 2
}
